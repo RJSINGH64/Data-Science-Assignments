{
 "cells": [
  {
   "cell_type": "code",
   "execution_count": 1,
   "id": "e35465d4",
   "metadata": {},
   "outputs": [],
   "source": [
    "class Solution:\n",
    "    def addTwoNumbers(self, l1,l2):\n",
    "        carry = 0\n",
    "        result = ListNode(0)\n",
    "        pointer = result\n",
    "        \n",
    "        \n",
    "        while (l1 or l2 or carry):\n",
    "            \n",
    "            first_num = l1.val if l1.val else 0\n",
    "            second_num = l2.val if l2.val else 0\n",
    "            \n",
    "            summation = first_num + second_num + carry\n",
    "            \n",
    "            num = summation % 10\n",
    "            carry = summation // 10\n",
    "            \n",
    "            pointer.next = ListNode(num)\n",
    "            \n",
    "            pointer = pointer.next\n",
    "            l1 = l1.next if l1 else None\n",
    "            l2 = l2.next if l2 else None\n",
    "            \n",
    "        return result.next"
   ]
  },
  {
   "cell_type": "code",
   "execution_count": null,
   "id": "85a719a9",
   "metadata": {},
   "outputs": [],
   "source": []
  }
 ],
 "metadata": {
  "kernelspec": {
   "display_name": "Python 3 (ipykernel)",
   "language": "python",
   "name": "python3"
  },
  "language_info": {
   "codemirror_mode": {
    "name": "ipython",
    "version": 3
   },
   "file_extension": ".py",
   "mimetype": "text/x-python",
   "name": "python",
   "nbconvert_exporter": "python",
   "pygments_lexer": "ipython3",
   "version": "3.9.7"
  }
 },
 "nbformat": 4,
 "nbformat_minor": 5
}
