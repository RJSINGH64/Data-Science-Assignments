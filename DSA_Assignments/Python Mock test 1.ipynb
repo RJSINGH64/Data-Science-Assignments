{
 "cells": [
  {
   "cell_type": "code",
   "execution_count": 2,
   "id": "3fe2094f",
   "metadata": {},
   "outputs": [],
   "source": [
    "\n",
    "\n",
    "def mySqrt(self, x: int) -> int:\n",
    "\n",
    "    min = 0\n",
    "\n",
    "    max = x\n",
    "\n",
    "    i = 0\n",
    "\n",
    "    if x == 1:\n",
    "\n",
    "        return 1\n",
    "\n",
    "    while i < 1:\n",
    "\n",
    "        mid = (min + max) / 2\n",
    "\n",
    "        res = mid ** 2\n",
    "\n",
    "        res = round(res, 4)\n",
    "\n",
    "        if res == x:\n",
    "\n",
    "            i = 1\n",
    "\n",
    "            break\n",
    "\n",
    "        elif res > x:\n",
    "\n",
    "            max = mid\n",
    "\n",
    "        else:\n",
    "\n",
    "            min = mid\n",
    "\n",
    "    return int(mid)"
   ]
  },
  {
   "cell_type": "code",
   "execution_count": null,
   "id": "5b58f668",
   "metadata": {},
   "outputs": [],
   "source": []
  }
 ],
 "metadata": {
  "kernelspec": {
   "display_name": "Python 3 (ipykernel)",
   "language": "python",
   "name": "python3"
  },
  "language_info": {
   "codemirror_mode": {
    "name": "ipython",
    "version": 3
   },
   "file_extension": ".py",
   "mimetype": "text/x-python",
   "name": "python",
   "nbconvert_exporter": "python",
   "pygments_lexer": "ipython3",
   "version": "3.9.7"
  }
 },
 "nbformat": 4,
 "nbformat_minor": 5
}
